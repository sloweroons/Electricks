{
  "cells": [
    {
      "cell_type": "markdown",
      "id": "d02be79b",
      "metadata": {
        "id": "d02be79b"
      },
      "source": [
        "# SMT (Satisfiability Modulo Theories) Practical Session\n",
        "\n",
        "Practical session of Automated Verification Techniques (BMEVIMIMA29), 2024\n",
        "\n",
        "by Csanád Telbisz, ftsrg (Critical Systems Research Group), Budapest University of Technology and Economics\n",
        "\n",
        "## Overview\n",
        "\n",
        "The purpose of this session is to get familiar with the ways problems can be modelled and solved using SMT solvers. We will use the Python APIs of the Z3 SMT solver(s) to model and solve problems, and we will also look at the SMT-LIB interface.\n",
        "\n",
        "The first part of the notebook contains a brief overview of the Python SMT API with a lot of example code given. You will have to solve exercise with less and less help as you proceed. Look for *TODO*s in the code: you have to complete the solution at those points. If you have any technical questions or problems concerning the APIs, check the documentations and tutorials referenced at the end of this notebook. If you have any questions concerning the exercises, feel free to ask the tutors via Teams or email."
      ]
    },
    {
      "cell_type": "markdown",
      "id": "qDnmzIHuvnpW",
      "metadata": {
        "id": "qDnmzIHuvnpW"
      },
      "source": [
        "## Install Z3"
      ]
    },
    {
      "cell_type": "code",
      "id": "NU8SifBatir0",
      "metadata": {
        "id": "NU8SifBatir0",
        "colab": {
          "base_uri": "https://localhost:8080/"
        },
        "outputId": "746bf7e1-2f17-4765-afc8-7f14c49866f6"
      },
      "source": [
        "!pip install z3-solver"
      ],
      "outputs": [
        {
          "output_type": "stream",
          "name": "stdout",
          "text": [
            "Requirement already satisfied: z3-solver in /usr/local/lib/python3.12/dist-packages (4.15.3.0)\n"
          ]
        }
      ],
      "execution_count": 3
    },
    {
      "cell_type": "markdown",
      "id": "wi2plD4iFIWx",
      "metadata": {
        "id": "wi2plD4iFIWx"
      },
      "source": [
        "\n",
        "### Required Imports\n",
        "\n",
        "The required import for Z3 is:"
      ]
    },
    {
      "metadata": {
        "id": "5fb6f09c294bbf96"
      },
      "cell_type": "code",
      "source": [
        "from z3 import *"
      ],
      "id": "5fb6f09c294bbf96",
      "outputs": [],
      "execution_count": 4
    },
    {
      "metadata": {
        "id": "c3dee52630ff5fa3"
      },
      "cell_type": "markdown",
      "source": [
        "There is a bunch of SMT solvers with different advantages and disadvantages. Some of them also have a Python API which are even interchangeable with the Z3 API in some cases (e.g., the [cvc5 Python API](https://cvc5.github.io/docs/cvc5-1.1.2/api/python/python.html)). You may try other solvers if you like, but we will stick to Z3 in this session as one of the most widely used and stable SMT solvers."
      ],
      "id": "c3dee52630ff5fa3"
    },
    {
      "cell_type": "markdown",
      "id": "a15cb237",
      "metadata": {
        "id": "a15cb237"
      },
      "source": [
        "# A Brief Overview of the Python SMT API"
      ]
    },
    {
      "cell_type": "markdown",
      "id": "69InHoGJOMpN",
      "metadata": {
        "id": "69InHoGJOMpN"
      },
      "source": [
        "### Declaration of Various Kinds: Constants/Variables, Functions, etc.\n",
        "\n",
        "One of the first steps when interfacing SMT solvers is to declare the types (sorts) and symbols needed for modelling.\n",
        "\n",
        "Using Python, we can declare variables (or constants, if you prefer) using the sort name as a constructor, or using the `Const` constructor. As a convention, the solver variable is usually assigned to a Python variable of the same name, which is later used to construct expressions. The available sorts include the ones introduced in the various SMT-LIB theories. Bit-vector variables are declared by adding the bit-width as a second argument, and arrays by adding the index and object sorts (the index is typically Int sort in a conventional array)."
      ]
    },
    {
      "cell_type": "code",
      "id": "30b33e01",
      "metadata": {
        "colab": {
          "base_uri": "https://localhost:8080/"
        },
        "id": "30b33e01",
        "outputId": "b0159ca8-3ef8-44e4-fba5-b6e30468fe68"
      },
      "source": [
        "# variables x, y ranging over the reals\n",
        "x = Real('x')\n",
        "y = Const('y', RealSort())\n",
        "\n",
        "# variable z ranging over the integers\n",
        "z = Int('z')\n",
        "\n",
        "# boolean variable b\n",
        "b = Bool('b')\n",
        "\n",
        "# bit-vector variable bv, with bit-width 32\n",
        "bv = BitVec('bv', 32)\n",
        "\n",
        "# array variable a, with index and object sorts integer\n",
        "a = Array('a', IntSort(), IntSort())\n",
        "\n",
        "print(x)\n",
        "print(bv.sort())"
      ],
      "outputs": [
        {
          "output_type": "stream",
          "name": "stdout",
          "text": [
            "x\n",
            "BitVec(32)\n"
          ]
        }
      ],
      "execution_count": 5
    },
    {
      "cell_type": "markdown",
      "id": "gTeOl5VLxzO4",
      "metadata": {
        "id": "gTeOl5VLxzO4"
      },
      "source": [
        "There are various short-hands available for declaring multiple variables simultaneously, which is often needed. It is often convenient to use Python list comprehension as part of declarations:"
      ]
    },
    {
      "cell_type": "code",
      "id": "RFDPRUVCx9X5",
      "metadata": {
        "colab": {
          "base_uri": "https://localhost:8080/"
        },
        "id": "RFDPRUVCx9X5",
        "outputId": "aecfe992-bb83-410f-f243-cb8543bcacdd"
      },
      "source": [
        "# three integer variables\n",
        "a, b, c = Ints('a b c')\n",
        "\n",
        "# a vector of 8 integer variables\n",
        "vars = IntVector('vars', 8)\n",
        "\n",
        "# a list of 10 bit-vector variables (each bit-vector is 32-bit long) declared by list comprehension\n",
        "vars2 = [BitVec(f\"vars2_{i}\", 32) for i in range(10)]\n",
        "\n",
        "print(vars[0])\n",
        "print(vars2[0])"
      ],
      "outputs": [
        {
          "output_type": "stream",
          "name": "stdout",
          "text": [
            "vars__0\n",
            "vars2_0\n"
          ]
        }
      ],
      "execution_count": 6
    },
    {
      "cell_type": "markdown",
      "id": "bxdUGgoqzd51",
      "metadata": {
        "id": "bxdUGgoqzd51"
      },
      "source": [
        "\n",
        "\n",
        "```\n",
        "# This is formatted as code\n",
        "```\n",
        "\n",
        "Sorts are basically types. Functions are declared using the `Function` constructor, providing the argument and result sorts. We can also declare uninterpreted sorts using the `DeclareSort` constructor:"
      ]
    },
    {
      "cell_type": "code",
      "id": "fb3a8c58-7e0c-4796-916b-5ce0bab3b587",
      "metadata": {
        "colab": {
          "base_uri": "https://localhost:8080/"
        },
        "id": "fb3a8c58-7e0c-4796-916b-5ce0bab3b587",
        "outputId": "f104db76-cd58-4a4d-b98f-ef54527b3dd6"
      },
      "source": [
        "S = DeclareSort('S')\n",
        "f = Function('f', BoolSort(), S, IntSort())\n",
        "\n",
        "print(f)\n",
        "print(f.arity())"
      ],
      "outputs": [
        {
          "output_type": "stream",
          "name": "stdout",
          "text": [
            "f\n",
            "2\n"
          ]
        }
      ],
      "execution_count": 8
    },
    {
      "cell_type": "markdown",
      "id": "k44_7_Va1Z7C",
      "metadata": {
        "id": "k44_7_Va1Z7C"
      },
      "source": [
        "## Constructing Expressions"
      ]
    },
    {
      "cell_type": "markdown",
      "id": "QI2oIN5maYIu",
      "metadata": {
        "id": "QI2oIN5maYIu"
      },
      "source": [
        "### Quantifier-Free Expressions\n",
        "\n",
        "After declaring the required vocabulary, terms and formulas can be built using \"Pythonic\" syntax by using mathematical/infix notation. The available operators correspond to those defined in SMT-LIB; for the details, we refer to the [section on theories](https://theory.stanford.edu/~nikolaj/programmingz3.html#sec-theories) in the _Programming Z3_ article.\n",
        "\n",
        "For simple tasks, we can also use the function `solve` to check satisfiability of a formula, and compute a solution."
      ]
    },
    {
      "cell_type": "code",
      "id": "gcbtQevN12Lu",
      "metadata": {
        "colab": {
          "base_uri": "https://localhost:8080/"
        },
        "id": "gcbtQevN12Lu",
        "outputId": "9c7fa755-b8e1-4448-8ace-6b283901ac60"
      },
      "source": [
        "x, y = Reals('x y')\n",
        "\n",
        "# a real-valued term\n",
        "t = x + y\n",
        "print(t)\n",
        "print(t.sort())\n",
        "\n",
        "# a conjunction of two equations\n",
        "f = And(x == y + 1.5, y != 0)\n",
        "print(f.decl())\n",
        "print(f.children())\n",
        "\n",
        "# compute a solution of the formula\n",
        "solve(f)\n",
        "\n",
        "# conjoining another inequality makes the formula unsat\n",
        "solve(f, x < y)"
      ],
      "outputs": [
        {
          "output_type": "stream",
          "name": "stdout",
          "text": [
            "x + y\n",
            "Real\n",
            "And\n",
            "[x == y + 3/2, y != 0]\n",
            "[y = -3/2, x = 0]\n",
            "no solution\n"
          ]
        }
      ],
      "execution_count": 23
    },
    {
      "cell_type": "markdown",
      "id": "OYysvp0v7E9X",
      "metadata": {
        "id": "OYysvp0v7E9X"
      },
      "source": [
        "**Exercise 1** (0 points, required)\n",
        "\n",
        "Invert the following real-valued matrix:\n",
        "$$\n",
        "A = \\begin{pmatrix} 1 & 2 \\\\ 3 & 4 \\end{pmatrix}\n",
        "$$\n"
      ]
    },
    {
      "cell_type": "code",
      "id": "_Jznbicm8O98",
      "metadata": {
        "id": "_Jznbicm8O98",
        "colab": {
          "base_uri": "https://localhost:8080/"
        },
        "outputId": "dc457832-7f73-4cc2-f132-e7433cbe7a39"
      },
      "source": [
        "M = [[1, 2],\n",
        "     [3, 4]]\n",
        "\n",
        "# declare four variables over the reals to represent the elements of the inverse matrix M^-1\n",
        "# M^-1 = |a b|\n",
        "#        |c d|\n",
        "\n",
        "# TODO: YOUR SOLUTION HERE\n",
        "a, b, c, d = Reals('a b c d')\n",
        "\n",
        "# formulate four equations characterising the inverse, use the function solve\n",
        "# (hint: formulate the matrix product M * M^-1 = I manually for each element of I)\n",
        "\n",
        "solve(1*a + 2*c == 1, 1*b + 2*d == 0, 3*a + 4*c == 0, 3*b + 4*d == 1)"
      ],
      "outputs": [
        {
          "output_type": "stream",
          "name": "stdout",
          "text": [
            "[c = 3/2, a = -2, d = -1/2, b = 1]\n"
          ]
        }
      ],
      "execution_count": 10
    },
    {
      "cell_type": "markdown",
      "id": "_Mzfy6nM9-2O",
      "metadata": {
        "id": "_Mzfy6nM9-2O"
      },
      "source": [
        "### Quantified Formulas\n",
        "\n",
        "For quantified formulas, we can use the `ForAll` or `Exists` constructors."
      ]
    },
    {
      "metadata": {
        "colab": {
          "base_uri": "https://localhost:8080/"
        },
        "id": "9b70cf4bdc285c0",
        "outputId": "53f881f8-1f25-4458-8752-2b54b8c896ca"
      },
      "cell_type": "code",
      "source": [
        "x, y = Ints('x y')\n",
        "\n",
        "# 18 is a composite number: there are two integers x, y bigger than 1 such that 18 = x * y\n",
        "# sat: a solution exists (but no free variables occur in the formula, so the output is empty)\n",
        "solve(Exists([x, y], And(18 == x*y, x > 1, y > 1)))"
      ],
      "id": "9b70cf4bdc285c0",
      "outputs": [
        {
          "output_type": "stream",
          "name": "stdout",
          "text": [
            "[]\n"
          ]
        }
      ],
      "execution_count": 9
    },
    {
      "metadata": {
        "id": "8376bb7961412f71"
      },
      "cell_type": "markdown",
      "source": [
        "Two solutions for proving that not all integers are even:"
      ],
      "id": "8376bb7961412f71"
    },
    {
      "metadata": {
        "colab": {
          "base_uri": "https://localhost:8080/"
        },
        "id": "5107fcf01d7018bf",
        "outputId": "37366fa2-5950-4221-e512-ac9596ab734a"
      },
      "cell_type": "code",
      "source": [
        "# there is an x such that x cannot be divided by 2 (no y exists such that x = 2*y)\n",
        "# sat: any odd number is a good candidate for x\n",
        "solve(Exists(x, Not(Exists(y, x == 2*y))))\n",
        "\n",
        "# same as above, just negated: we try to prove that all integers are even and we fail\n",
        "# unsat: because not all integers are even (no solution exists)\n",
        "solve(ForAll(x, Exists(y, x == y*2)))"
      ],
      "id": "5107fcf01d7018bf",
      "outputs": [
        {
          "output_type": "stream",
          "name": "stdout",
          "text": [
            "no solution\n",
            "[]\n"
          ]
        }
      ],
      "execution_count": 8
    },
    {
      "cell_type": "markdown",
      "id": "k_BCAZQkY55O",
      "metadata": {
        "id": "k_BCAZQkY55O"
      },
      "source": [
        "**Exercise 2** (0 points, required)\n",
        "\n",
        "Prove that there is a bound `B` such that every integer `x >= B` can be expressed as a non-negative integer linear combination of 7 and 8. That is, there are non-negative integer constants `y` and `z` such that `x = y*7 + z*8` for each `x >= B`. What is the smallest `B` with this property?\n",
        "\n",
        "FYI: the generalization of this problem is called the [Frobenius coin problem](https://en.wikipedia.org/wiki/Coin_problem).\n",
        "\n",
        "Suggested steps:\n",
        "* Formulate the problem as a quantified formula on paper first as you would do it in a math class.\n",
        "* Declare the necessary variables first.\n",
        "* Write the formulas in code."
      ]
    },
    {
      "cell_type": "code",
      "id": "mx_tbqghZLzn",
      "metadata": {
        "id": "mx_tbqghZLzn",
        "colab": {
          "base_uri": "https://localhost:8080/"
        },
        "outputId": "e67692e7-9819-43cd-a9c2-8e0e0ee15210"
      },
      "source": [
        "# declare variables: x, y, z, B, Bmin (B for proving the existence of the bound, Bmin for finding the minimal bound)\n",
        "x, y, z, B = Ints('x y z B')\n",
        "\n",
        "# formula proving the existence of such a bound\n",
        "solve(Exists(B, ForAll(x, Implies(x >= B, Exists([y, z], And(x == 7*y + 8*z, y >= 0, z >= 0))))))\n",
        "\n",
        "# formula for finding the minimal bound\n",
        "# To find the minimal bound, we can check for unsatisfiability starting from B=1 and incrementing.\n",
        "# The first B for which the negation of the formula is unsatisfiable is the minimal bound.\n",
        "# However, a more direct approach in Z3 is to negate the formula and add constraints to find the minimal B.\n",
        "# We assert that there exists an x >= B such that x cannot be expressed as 7y + 8z for non-negative y, z.\n",
        "# Then we check for increasing values of B.\n",
        "Bmin = Int('Bmin')\n",
        "s = Solver()\n",
        "s.add(Not(ForAll(x, Implies(x >= Bmin, Exists([y, z], And(x == 7*y + 8*z, y >= 0, z >= 0))))))\n",
        "\n",
        "i = 1\n",
        "while True:\n",
        "    s.push()\n",
        "    s.add(Bmin == i)\n",
        "    if s.check() == unsat:\n",
        "        print(f\"Optimal Bound -> {i}\")\n",
        "        s.pop()\n",
        "        break\n",
        "    s.pop()\n",
        "    i += 1"
      ],
      "outputs": [
        {
          "output_type": "stream",
          "name": "stdout",
          "text": [
            "[]\n"
          ]
        }
      ],
      "execution_count": null
    },
    {
      "metadata": {
        "id": "dbc52e9d4248abe5"
      },
      "cell_type": "markdown",
      "source": [
        "### Uninterpreted functions\n",
        "\n",
        "Uninterpreted functions are functions where only the signature is defined but the implementation or semantics is not. The solver tries to find an interpretation that matches the given formula - if it is possible. It is perfectly enough to prove some properties. Let us prove the following:\n",
        "\n",
        "$\\forall x. f(x) \\geq 0 \\Rightarrow f(42) > -10$\n",
        "\n",
        "In plain words: if we know that outputs of $f$ are non-negative, then the output of $f$ for input 42 is greater than -10."
      ],
      "id": "dbc52e9d4248abe5"
    },
    {
      "metadata": {
        "colab": {
          "base_uri": "https://localhost:8080/"
        },
        "id": "78acba77978ed032",
        "outputId": "6763732f-227b-4fe3-cb12-3d407ad14dc9"
      },
      "cell_type": "code",
      "outputs": [
        {
          "output_type": "stream",
          "name": "stdout",
          "text": [
            "no solution\n"
          ]
        }
      ],
      "execution_count": 11,
      "source": [
        "# uninterpreted function defined by its signature: f: Int -> Int\n",
        "f = Function('f', IntSort(), IntSort())\n",
        "\n",
        "# we give the negation of our formula to the solver to make it find a counterexample violating our claim\n",
        "# unsat: this implies that no counterexample exists, so the original formula holds\n",
        "solve(\n",
        "    Not(\n",
        "        Implies(\n",
        "            ForAll(x, f(x) >= 0),\n",
        "            f(42) > -10\n",
        "        )\n",
        "    )\n",
        ")"
      ],
      "id": "78acba77978ed032"
    },
    {
      "cell_type": "markdown",
      "id": "8w3wuKDyZShs",
      "metadata": {
        "id": "8w3wuKDyZShs"
      },
      "source": [
        "## The Solver API\n",
        "\n",
        "For more complex modelling tasks, it is useful to instantiate a solver first which then offers an API similar to the SMT-LIB interface, including:\n",
        "* `add`: add new constraints/assertions to the solver.\n",
        "* `check`: check whether the given constraints are satisfiable.\n",
        "* `model`: in case of satisfiable constraints, compute a model/satisfying assignment.\n",
        "\n",
        "Solver check results: when using the `solve` method (as before), the result is either a model (`[x=2,...]`) or `no solution`. The `check` method returns `sat` (when there is a solution) or `unsat` (when the provided assertions are unsatisfiable). And of course, the final output may be some error message (e.g., failed to solve)."
      ]
    },
    {
      "cell_type": "code",
      "id": "lnikzMJfbSrH",
      "metadata": {
        "colab": {
          "base_uri": "https://localhost:8080/"
        },
        "id": "lnikzMJfbSrH",
        "outputId": "b5914e13-dc48-47f6-c2da-045588cef36a"
      },
      "source": [
        "x, y = Ints('x y')\n",
        "s = Solver()\n",
        "\n",
        "s.add(x == 2*y + 1)\n",
        "s.add(Implies(x >= 0, y >= 0))\n",
        "\n",
        "print(s.check())\n",
        "print(s.model())"
      ],
      "outputs": [
        {
          "output_type": "stream",
          "name": "stdout",
          "text": [
            "sat\n",
            "[y = 0, x = 1]\n"
          ]
        }
      ],
      "execution_count": 12
    },
    {
      "cell_type": "markdown",
      "id": "0PPX5hZmdtbb",
      "metadata": {
        "id": "0PPX5hZmdtbb"
      },
      "source": [
        "It is often necessary to analyse models returned by the solver. We can determine the value of expressions in a given model using the method `evaluate`:"
      ]
    },
    {
      "cell_type": "code",
      "id": "JC7mgIezeM3f",
      "metadata": {
        "colab": {
          "base_uri": "https://localhost:8080/"
        },
        "id": "JC7mgIezeM3f",
        "outputId": "be2685a9-0b9d-4e22-9e67-7730427ff8bc"
      },
      "source": [
        "m = s.model()\n",
        "print(m.evaluate(x + y))\n",
        "\n",
        "# determine variables defined by the model\n",
        "\n",
        "# the following constraint \"asks\" for a different model: we iterate over the variables\n",
        "# defined by the model (m.decls()), and we construct a disjunction stating that at least\n",
        "# one of those variables should have a value different from the one in the model.\n",
        "s.add(Or([ x() != m[x()] for x in m.decls() ]))\n",
        "print(s.check())\n",
        "print(s.model())"
      ],
      "outputs": [
        {
          "output_type": "stream",
          "name": "stdout",
          "text": [
            "1\n",
            "[y, x]\n",
            "sat\n",
            "[x = -1, y = -1]\n"
          ]
        }
      ],
      "execution_count": 13
    },
    {
      "metadata": {
        "id": "dlfebH5jcAyB"
      },
      "cell_type": "markdown",
      "source": [
        "The solver can be used incrementally as well. For this, the solver provides an _assertion stack_ to which constraints can be pushed and from which constraints can be removed. The following two methods are available to control the assertion stack:\n",
        "* `push`: add a new scope on the assertion stack.\n",
        "* `pop`: remove the top-most scope from the stack."
      ],
      "id": "dlfebH5jcAyB"
    },
    {
      "metadata": {
        "id": "51d27b0d8f71900b"
      },
      "cell_type": "markdown",
      "source": [
        "## A Brief Overview of SMT-LIB 2.6\n",
        "\n",
        "SMT-LIB provides a standardized textual interface to SMT solvers. SMT-LIB scripts are designed to be easy to generate and easy to parse, but the format offers little syntactic sugar; when modelling problems by hand, SMT-LIB is therefore relatively tedious. It is possible, however, to model some of the easier problems also directly using SMT-LIB; or some day, you may have to implement a tool that communicates with an SMT solver using the SMT-LIB format.\n",
        "\n",
        "If you would like to try SMT-LIB by hand, you have the following options to interact with SMT solvers:\n",
        "* Play with a web application accepting SMT-LIB input: [Z3 playground](https://microsoft.github.io/z3guide/playground/Freeform%20Editing) or [cvc5](https://cvc5.github.io/app/)\n",
        "* Parse SMT-LIB script from string using the Python API: `s.from_string(\"<your SMT-LIB script>\")`\n",
        "\n",
        "### Declarations\n",
        "\n",
        "SMT-LIB is based on expressions which are written in prefix notation (e.g., `+ 3 4` instead of `3 + 4`). The standard mandates that every script starts with a `set-logic` command specifying the applied [logic](https://smt-lib.org/logics.shtml), e.g.:\n",
        "```\n",
        "(set-logic QF_LIA) ; quantifier-free linear integer problems\n",
        "```\n",
        "Technically, most of the time, SMT solvers are clever enough to infer the logic from the constraints, but it is good practice to specify it explicitly.\n",
        "\n",
        "We declare sorts, variables and functions using the commands:\n",
        "* `declare-sort` for declaring sorts,\n",
        "* `declare-const` for declaring variables (aka constants),\n",
        "* `declare-fun` for declaring functions.\n",
        "\n",
        "```\n",
        "(declare-sort S)\n",
        "(declare-const x Real)\n",
        "(declare-const y Int)\n",
        "(declare-const bv (_ BitVec 32))\n",
        "(declare-fun f (Bool S) Int)\n",
        "```\n",
        "\n",
        "### Constructing Assertions\n",
        "\n",
        "Through SMT-LIB, solvers expose an interface similar to the one available with the Python `Solver` class. We can add new formulas using the command `assert` and control the assertion stack using commands `push` and `pop`. The latter two commands receive a numeric argument telling how many scopes are supposed to be pushed or popped. The status of the asserted formulas can be checked using the command `check-sat`, and a model be extracted using `get-model`.\n",
        "\n",
        "All expressions have to be formulated using the signatures provided by the respective [SMT-LIB theories and logics](https://smt-lib.org/theories.shtml). Comments start with a semicolon `;`.\n",
        "\n",
        "```\n",
        "(set-logic QF_LIA)\n",
        "\n",
        "(declare-const x Int)\n",
        "(declare-const y Int)\n",
        "\n",
        "; x == 2*y + 1\n",
        "(assert (= x (+ (* 2 y) 1)))\n",
        "\n",
        "; Implies(x >= 0, y >= 0)\n",
        "(assert (=> (>= x 0) (>= y 0)))\n",
        "\n",
        "(check-sat)\n",
        "; sat\n",
        "(get-model)\n",
        "; (model\n",
        ";   (define-fun y () Int (- 1))\n",
        ";   (define-fun x () Int (- 1))\n",
        "; )\n",
        "```"
      ],
      "id": "51d27b0d8f71900b"
    },
    {
      "metadata": {
        "id": "JXXhELWPg7SQ"
      },
      "cell_type": "markdown",
      "source": [
        "# Basic Modelling Exercises"
      ],
      "id": "JXXhELWPg7SQ"
    },
    {
      "metadata": {
        "id": "DK8aqTwehB5V"
      },
      "cell_type": "markdown",
      "source": [
        "## Exercise 3: Alphametics (0.5 points)\n",
        "\n",
        "Alphametics (aka cryptarithms) are arithmetic puzzles in which every letter has to be replaced by a digit, i.e., a number in the range `[0, 9]`, so that some equation is satisfied. We also require that the digits are pairwise distinct, and that the left-most digit of each term is non-zero. Alphametics can be solved easily using an SMT solver by declaring an appropriate set of variables, of sort `Int` or `BitVec`, adding the relevant constraints about digits, and stating the equation to be solved.\n",
        "\n",
        "Solve this example:\n",
        "\n",
        "```\n",
        "  KNIFE\n",
        "+  FORK\n",
        "+ SPOON\n",
        "+  SOUP\n",
        "-------\n",
        " SUPPER\n",
        "```\n",
        "\n",
        "Hint: there is a `Distinct` operator (operator like `And` and `Not`) available in Z3 which states that its argument terms have pairwise distinct values. See [reference](https://z3prover.github.io/api/html/namespacez3py.html#aac3e33e977e8037611916937caffa78e)."
      ],
      "id": "DK8aqTwehB5V"
    },
    {
      "metadata": {
        "colab": {
          "base_uri": "https://localhost:8080/"
        },
        "id": "3OvwuTwRjyNq",
        "outputId": "9c8e3146-2e52-458e-d3b2-02d36b5e91c4"
      },
      "cell_type": "code",
      "outputs": [
        {
          "output_type": "stream",
          "name": "stdout",
          "text": [
            "Solution found:\n",
            "K = 8\n",
            "N = 4\n",
            "I = 7\n",
            "F = 2\n",
            "E = 6\n",
            "O = 9\n",
            "R = 3\n",
            "S = 1\n",
            "P = 5\n",
            "U = 0\n"
          ]
        }
      ],
      "execution_count": 16,
      "source": [
        "K, N, I, F, E, O, R, S, P, U = Ints('K N I F E O R S P U')\n",
        "\n",
        "solver = Solver()\n",
        "\n",
        "digits = [K, N, I, F, E, O, R, S, P, U]\n",
        "for digit in digits:\n",
        "    solver.add(digit >= 0, digit <= 9)\n",
        "\n",
        "solver.add(Distinct(digits))\n",
        "solver.add(K != 0, F != 0, S != 0)\n",
        "equation = (\n",
        "    10000 * K + 1000 * N + 100 * I + 10 * F + E +\n",
        "    1000 * F + 100 * O + 10 * R + K +\n",
        "    10000 * S + 1000 * P + 100 * O + 10 * O + N +\n",
        "    1000 * S + 100 * O + 10 * U + P\n",
        ") == (\n",
        "    100000 * S + 10000 * U + 1000 * P + 100 * P + 10 * E + R\n",
        ")\n",
        "solver.add(equation)\n",
        "\n",
        "if solver.check() == sat:\n",
        "    model = solver.model()\n",
        "    print(\"Solution found:\")\n",
        "    print(f\"K = {model[K]}\")\n",
        "    print(f\"N = {model[N]}\")\n",
        "    print(f\"I = {model[I]}\")\n",
        "    print(f\"F = {model[F]}\")\n",
        "    print(f\"E = {model[E]}\")\n",
        "    print(f\"O = {model[O]}\")\n",
        "    print(f\"R = {model[R]}\")\n",
        "    print(f\"S = {model[S]}\")\n",
        "    print(f\"P = {model[P]}\")\n",
        "    print(f\"U = {model[U]}\")\n",
        "else:\n",
        "    print(\"No solution found.\")"
      ],
      "id": "3OvwuTwRjyNq"
    },
    {
      "metadata": {
        "id": "lrxTlzyJlTw8"
      },
      "cell_type": "markdown",
      "source": [
        "## Exercise 4: Sudoku (0.5 points)\n",
        "\n",
        "No SMT exercise would be complete without a Sudoku challenge. The constraints of Sudoku can be modelled using either integer or bit-vector variables, in both cases restricted to the range `[1, 9]`. An encoding with bit-vectors tends to be more efficient, since the SMT solver can translate the complete puzzle to a SAT problem. Take\n",
        "[this Sudoku instance](https://en.wikipedia.org/wiki/Mathematics_of_Sudoku#/media/File:Oceans_Sudoku17_Puzzle-39451_trimmed.png), and solve it by encoding the puzzle and the constraints into SMT.\n",
        "\n",
        "You might find the following bit-vector operators useful (as well as do not forget about the `Distinct` operator):\n",
        "\n",
        "* `ULT`: unsigned less-than\n",
        "* `ULE`: unsigned less-than-or-equal\n",
        "* `UGT`: unsigned greater-than\n",
        "* `UGE`: unsigned greater-than-or-equal\n",
        "\n",
        "The conversion between integer literals and bit-vector happens automatically in the Python API.\n",
        "\n",
        "For modelling an $N\\times N$ Sudoku, we can start by creating a vector of $N\\cdot N$ variables and use loops and list comprehension to add the necessary constraints:"
      ],
      "id": "lrxTlzyJlTw8"
    },
    {
      "metadata": {
        "colab": {
          "base_uri": "https://localhost:8080/"
        },
        "id": "BOl4vLDOpFoz",
        "outputId": "58830296-840e-4ca2-e646-15eb8fa74139"
      },
      "cell_type": "code",
      "outputs": [
        {
          "output_type": "stream",
          "name": "stdout",
          "text": [
            "sat\n",
            "[None, None, None, None, None, None, None, 1, None]\n",
            "[None, None, None, None, None, 2, None, None, 3]\n",
            "[None, None, None, 4, None, None, None, None, None]\n",
            "[None, None, None, None, None, None, 5, None, None]\n",
            "[4, None, 1, 6, None, None, None, None, None]\n",
            "[None, None, 7, 1, None, None, None, None, None]\n",
            "[None, 5, None, None, None, None, 2, None, None]\n",
            "[None, None, None, None, 8, None, None, 4, None]\n",
            "[None, 3, None, 9, 1, None, None, None, None]\n"
          ]
        }
      ],
      "execution_count": 57,
      "source": [
        "s = Solver()\n",
        "N = 9\n",
        "B = 4\n",
        "entry = [BitVec(f\"entry{i}\", B) for i in range(N*N)]\n",
        "\n",
        "def e(row, col):\n",
        "  return entry[row*N + col]\n",
        "\n",
        "s.add(And(e(0, 7)==1, e(1, 5)==2, e(1, 8)==3, e(2, 3)==4, e(3, 6)==5, e(4, 0)==4, e(4, 2)==1, e(4, 3)==6, e(5, 2)==7, e(5, 3)==1, e(6, 1)==5, e(6, 6)==2, e(7, 4)==8, e(7, 7)==4, e(8, 1)==3, e(8, 3)==9, e(8, 4)==1))\n",
        "\n",
        "print(s.check())\n",
        "m = s.model()\n",
        "for i in range(N):\n",
        "  print([m[e(i, j)] for j in range(N)])"
      ],
      "id": "BOl4vLDOpFoz"
    },
    {
      "metadata": {
        "id": "fc0f81a13f97d55a"
      },
      "cell_type": "markdown",
      "source": [
        "## Exercise 5: Four-Color Theorem (1 point)\n",
        "\n",
        "The [four-color theorem](https://en.wikipedia.org/wiki/Four_color_theorem) states that every planar graph can be colored using at most four colors. The theorem was first proposed in 1852 as a conjecture and was finally proven in 1976. It was the first major theorem to be proven using a computer. Therefore, the problem deserves a place in our SMT exercise.\n",
        "\n",
        "The countries of Europe are provided below with their neighbors. Your task is to color the countries of Europe using four colors in such a way that no two neighboring countries have the same color. A visualization is also prepared for your solution: to use it, you need to install the `geopandas` package and provide your solution as a dictionary mapping a color id (0-3) to each country."
      ],
      "id": "fc0f81a13f97d55a"
    },
    {
      "metadata": {
        "colab": {
          "base_uri": "https://localhost:8080/"
        },
        "id": "a749886f6d5e73f5",
        "outputId": "5d41fc97-32ba-44b4-feda-26331001762b"
      },
      "cell_type": "code",
      "outputs": [
        {
          "output_type": "stream",
          "name": "stdout",
          "text": [
            "Requirement already satisfied: geopandas in /usr/local/lib/python3.12/dist-packages (1.1.1)\n",
            "Requirement already satisfied: numpy>=1.24 in /usr/local/lib/python3.12/dist-packages (from geopandas) (2.0.2)\n",
            "Requirement already satisfied: pyogrio>=0.7.2 in /usr/local/lib/python3.12/dist-packages (from geopandas) (0.11.1)\n",
            "Requirement already satisfied: packaging in /usr/local/lib/python3.12/dist-packages (from geopandas) (25.0)\n",
            "Requirement already satisfied: pandas>=2.0.0 in /usr/local/lib/python3.12/dist-packages (from geopandas) (2.2.2)\n",
            "Requirement already satisfied: pyproj>=3.5.0 in /usr/local/lib/python3.12/dist-packages (from geopandas) (3.7.2)\n",
            "Requirement already satisfied: shapely>=2.0.0 in /usr/local/lib/python3.12/dist-packages (from geopandas) (2.1.2)\n",
            "Requirement already satisfied: python-dateutil>=2.8.2 in /usr/local/lib/python3.12/dist-packages (from pandas>=2.0.0->geopandas) (2.9.0.post0)\n",
            "Requirement already satisfied: pytz>=2020.1 in /usr/local/lib/python3.12/dist-packages (from pandas>=2.0.0->geopandas) (2025.2)\n",
            "Requirement already satisfied: tzdata>=2022.7 in /usr/local/lib/python3.12/dist-packages (from pandas>=2.0.0->geopandas) (2025.2)\n",
            "Requirement already satisfied: certifi in /usr/local/lib/python3.12/dist-packages (from pyogrio>=0.7.2->geopandas) (2025.10.5)\n",
            "Requirement already satisfied: six>=1.5 in /usr/local/lib/python3.12/dist-packages (from python-dateutil>=2.8.2->pandas>=2.0.0->geopandas) (1.17.0)\n"
          ]
        }
      ],
      "execution_count": 24,
      "source": [
        "!pip install geopandas"
      ],
      "id": "a749886f6d5e73f5"
    },
    {
      "metadata": {
        "id": "8f09cbf59edba7db"
      },
      "cell_type": "code",
      "outputs": [],
      "execution_count": 25,
      "source": [
        "# List of European countries and their neighbours\n",
        "borders = {'Albania':['Montenegro','Kosovo','North Macedonia','Greece'],'Andorra':['France','Spain'],'Austria':['Germany','Czechia','Slovakia','Hungary','Slovenia','Italy','Liechtenstein','Switzerland'],'Belarus':['Latvia','Lithuania','Poland','Ukraine','Russia'],'Belgium':['France','Luxembourg','Germany','Netherlands'],'Bosnia and Herz.':['Croatia','Serbia','Montenegro'],'Bulgaria':['Serbia','North Macedonia','Greece','Turkey','Romania'],'Croatia':['Slovenia','Hungary','Serbia','Bosnia and Herz.','Montenegro'],'Cyprus':[],'Czechia':['Germany','Poland','Austria','Slovakia'],'Denmark':['Germany'],'Estonia':['Latvia','Russia'],'Finland':['Sweden','Russia'],'France':['Belgium','Luxembourg','Germany','Switzerland','Italy','Monaco','Spain','Andorra'],'Germany':['Denmark','Poland','Czechia','Austria','Switzerland','France','Luxembourg','Belgium','Netherlands'],'Greece':['Albania','North Macedonia','Bulgaria','Turkey'],'Hungary':['Austria','Slovakia','Ukraine','Romania','Serbia','Croatia','Slovenia'],'Iceland':[],'Ireland':[],'Italy':['France','Switzerland','Austria','Slovenia','San Marino','Vatican'],'Kosovo':['Montenegro','Albania','North Macedonia','Serbia'],'Latvia':['Estonia','Lithuania','Belarus','Russia'],'Liechtenstein':['Switzerland','Austria'],'Lithuania':['Latvia','Belarus','Poland','Russia'],'Luxembourg':['Belgium','Germany','France'],'Malta':[],'Moldova':['Ukraine','Romania'],'Monaco':['France'],'Montenegro':['Croatia','Bosnia and Herz.','Serbia','Kosovo','Albania'],'Netherlands':['Belgium','Germany'],'North Macedonia':['Kosovo','Albania','Greece','Bulgaria','Serbia'],'Norway':['Sweden','Finland','Russia'],'Poland':['Germany','Czechia','Austria','Slovakia','Ukraine','Belarus','Lithuania','Russia'],'Portugal':['Spain'],'Romania':['Ukraine','Moldova','Bulgaria','Serbia','Hungary'],'Russia':['Norway','Finland','Estonia','Latvia','Lithuania','Poland','Belarus','Ukraine'],'San Marino':['Italy'],'Serbia':['Hungary','Romania','Bulgaria','North Macedonia','Croatia','Bosnia and Herz.','Montenegro','Kosovo'],'Slovakia':['Czechia','Poland','Ukraine','Hungary','Austria'],'Slovenia':['Italy','Austria','Hungary','Croatia'],'Spain':['Portugal','France','Andorra'],'Sweden':['Norway','Finland'],'Switzerland':['Germany','France','Italy','Austria','Liechtenstein'],'Turkey':['Bulgaria','Greece'],'Ukraine':['Belarus','Poland','Slovakia','Hungary','Romania','Moldova','Russia'],'United Kingdom':['Ireland'],'Vatican':['Italy']}\n",
        "countries = list(borders.keys())"
      ],
      "id": "8f09cbf59edba7db"
    },
    {
      "metadata": {
        "colab": {
          "base_uri": "https://localhost:8080/"
        },
        "id": "4f10ea45c3d6933f",
        "outputId": "a1714eaa-cd3a-49cb-b91e-415385b736ed"
      },
      "cell_type": "code",
      "outputs": [
        {
          "output_type": "stream",
          "name": "stdout",
          "text": [
            "sat\n"
          ]
        }
      ],
      "execution_count": 37,
      "source": [
        "s = Solver()\n",
        "\n",
        "# create a dict as result mapping each country name to a number 0-3 indicating the color of the country, e.g.:\n",
        "colors = {country: 0 for country in countries} # TODO REPLACE WITH YOUR SOLUTION\n",
        "# hint: you may need to convert the value retrieved from the SMT model by calling model[my_var].as_long()\n",
        "\n",
        "# Declare SMT variables for each country's color (0-3)\n",
        "country_vars = {country: Int(country) for country in countries}\n",
        "\n",
        "# Add constraints: each country must have a color between 0 and 3\n",
        "for country_var in country_vars.values():\n",
        "    s.add(country_var >= 0, country_var <= 3)\n",
        "\n",
        "# Add constraints: neighboring countries must have different colors\n",
        "for country, neighbors in borders.items():\n",
        "    for neighbor in neighbors:\n",
        "        # Ensure the neighbor also exists in the countries list before adding a constraint\n",
        "        if neighbor in country_vars:\n",
        "            s.add(country_vars[country] != country_vars[neighbor])\n",
        "\n",
        "\n",
        "# Check for satisfiability\n",
        "print(s.check())\n",
        "if s.check() == sat:\n",
        "    model = s.model()\n",
        "    # Update the colors dictionary with the solution from the model\n",
        "    for country in countries:\n",
        "        colors[country] = model[country_vars[country]].as_long()\n",
        "\n",
        "# After this cell is executed, run the next cell to visualize the colored map."
      ],
      "id": "4f10ea45c3d6933f"
    },
    {
      "metadata": {
        "colab": {
          "base_uri": "https://localhost:8080/",
          "height": 541
        },
        "id": "211b584a12978bc4",
        "outputId": "40dafe6a-50a6-4d6a-ce96-15bcdaefea06"
      },
      "cell_type": "code",
      "outputs": [
        {
          "output_type": "display_data",
          "data": {
            "text/plain": [
              "<Figure size 800x600 with 1 Axes>"
            ],
            "image/png": "[encoded data removed]"
          },
          "metadata": {}
        }
      ],
      "execution_count": 38,
      "source": [
        "# no need to touch this cell, just run it after you have a solution\n",
        "\n",
        "import geopandas as gpd\n",
        "import matplotlib.pyplot as plt\n",
        "\n",
        "rgb_colors = ['#ff0000', '#00ff00', '#0000ff', '#ffff00']\n",
        "country_colors = {country: rgb_colors[colors[country]] for country in countries}\n",
        "\n",
        "url = \"https://raw.githubusercontent.com/nvkelso/natural-earth-vector/master/geojson/ne_110m_admin_0_countries.geojson\"\n",
        "world = gpd.read_file(url)\n",
        "europe = world[world['NAME'].isin(countries)]\n",
        "fig, ax = plt.subplots(1, 1, figsize=(8, 6))\n",
        "europe.boundary.plot(ax=ax, linewidth=1)\n",
        "for country in europe.iterrows():\n",
        "    country_name = country[1]['NAME']\n",
        "    color = country_colors.get(country_name, '#999999')  # Default color if not specified\n",
        "    europe[europe['NAME'] == country_name].plot(ax=ax, color=color, edgecolor='black')\n",
        "\n",
        "ax.set_xlim(-25, 45) # west-east borders of Europe\n",
        "ax.set_ylim(34, 72) # south-north borders of Europe\n",
        "\n",
        "plt.title('Colored Country Map of Europe', fontsize=15)\n",
        "plt.show()"
      ],
      "id": "211b584a12978bc4"
    },
    {
      "metadata": {
        "id": "989e6666a7c4a8dd"
      },
      "cell_type": "markdown",
      "source": [
        "### Unsatisfiable Cores\n",
        "\n",
        "What if we only have three colors? No big surprise, you cannot color the map of Europe with only three colors. Find the \"minimal reason\" why it is impossible to do so.\n",
        "\n",
        "In satisfiability problems, the *unsatisfiable core* of an unsatisfiable set of assertions is simply a subset of all assertions that are still unsatisfiable when taken together. The unsatisfiable core is useful for understanding why a set of assertions is unsatisfiable. Therefore, we prefer unsatisfiable cores to be small. A minimal unsatisfiable core is an unsatisfiable subset of assertions such that any assertion removed from the subset makes the set satisfiable. While minimal unsatisfiable cores are the most useful, they are often difficult to find. Your task is to find a minimal unsatisfiable core for the problem of coloring the map of Europe with three colors.\n",
        "\n",
        "Most SMT solvers can provide unsatisfiable cores, however, this feature is often disabled by default due to its computational cost. In Z3, you need to enable it explicitly. Furthermore, you also need to ask the solver explicitly to minimize the unsatisfiable core. These configuration commands are provided below to spare you the time of looking them up in the documentation.\n",
        "\n",
        "Steps to complete the task:\n",
        "* Copy the code from the previous task and modify it to allow only three colors.\n",
        "* Replace the `add` method with the [`assert_and_track`](https://z3prover.github.io/api/html/classz3py_1_1_solver.html#ad1255f8f9ba8926bb04e1e2ab38c8c15) method to add and track the assertions. You will need to provide a unique name for each assertion (hint: use country names in a template string if you add assertions in a loop). An example for the usage of this method:\n",
        "  ```python\n",
        "  s.assert_and_track(x > 0, \"x_positive\")\n",
        "  ```\n",
        "* After the satisfiability check command, print the unsatisfiable core using the [`unsat_core`](https://z3prover.github.io/api/html/classz3py_1_1_solver.html#a369232cb024a5a0f200ad7ff58261563) method of the solver (if the problem is indeed unsatisfiable). You should be able to see a few (neighboring) countries in the core such that even that small subset of countries cannot be colored with only three colors."
      ],
      "id": "989e6666a7c4a8dd"
    },
    {
      "metadata": {
        "colab": {
          "base_uri": "https://localhost:8080/"
        },
        "id": "464dc5c7b3d8146a",
        "outputId": "09f59b68-95eb-44ff-d69b-5c25c689d81b"
      },
      "cell_type": "code",
      "outputs": [
        {
          "output_type": "stream",
          "name": "stdout",
          "text": [
            "unsat\n",
            "Russia_color_range\n",
            "Ukraine_Poland_border\n",
            "Poland_Belarus_border\n",
            "Poland_Russia_border\n",
            "Russia_Belarus_border\n",
            "Belarus_color_range\n",
            "Poland_color_range\n",
            "Ukraine_color_range\n",
            "Ukraine_Belarus_border\n",
            "Ukraine_Russia_border\n"
          ]
        }
      ],
      "execution_count": 40,
      "source": [
        "s = Solver()\n",
        "s.set(unsat_core=True)\n",
        "s.set(':core.minimize', True)\n",
        "\n",
        "country_vars = {country: Int(country) for country in countries}\n",
        "\n",
        "for country in countries:\n",
        "    s.assert_and_track(And(country_vars[country] >= 0, country_vars[country] <= 2), f\"{country}_color_range\")\n",
        "\n",
        "for country, neighbors in borders.items():\n",
        "    for neighbor in neighbors:\n",
        "        if neighbor in country_vars:\n",
        "            s.assert_and_track(country_vars[country] != country_vars[neighbor], f\"{country}_{neighbor}_border\")\n",
        "\n",
        "print(s.check())\n",
        "if s.check() != sat:\n",
        "    core = s.unsat_core()\n",
        "    for assertion in core:\n",
        "        print(assertion)"
      ],
      "id": "464dc5c7b3d8146a"
    },
    {
      "metadata": {
        "id": "qCFnoEdt_AaM"
      },
      "cell_type": "markdown",
      "source": [
        "# Verification Exercises\n",
        "\n",
        "SMT solvers are commonly used to model and analyse the behaviour of programs or systems. We often choose an encoding of programs in which the resulting formula is satisfiable if and only if the program can exhibit some erroneous behaviour; e.g., if an assertion can fail in the program. Since the data-types and theories provided by SMT solvers closely follow the semantics of common programming languages, the translation from programs to formulas is often relatively easy (anyone who had the - bad - luck to implement such a translation considering every special case would be eager to contradict this statement).\n"
      ],
      "id": "qCFnoEdt_AaM"
    },
    {
      "metadata": {
        "id": "lTe9jaKyc4Y9"
      },
      "cell_type": "markdown",
      "source": [
        "## Exercise 6: Translating a Straightline Program (1 point)\n",
        "\n",
        "We want to check whether the assertion in the following (C-like) program always holds:\n",
        "\n",
        "```\n",
        "int x, y;    // Assume arbitrary initial values\n",
        "\n",
        "x = x * x;\n",
        "y = x + 1;\n",
        "\n",
        "assert(y > 0);\n",
        "```\n",
        "\n",
        "For this, we first have to decide about the semantics of the `int` type: the type could be modelled as the unbounded set of integers in the mathematical sense, or as (signed) machine integers of some size. We can then choose the corresponding SMT theory and translate the statements of the program to formulas.\n",
        "\n",
        "There are two standard tricks commonly applied in the translation:\n",
        "\n",
        "1. Since the program updates the variable `x, y`, in the solver we need to declare several versions of those variables. This corresponds to a translation of the program to \"single static assignment\" (SSA) form.\n",
        "\n",
        "2. The assertion in the program has to be added as a negated constraint to the solver, since we want to check whether it could happen that the assertion is violated.\n",
        "\n",
        "Create declarations for both mathematical integers (using SMT Ints) and machine integers (using SMT BitVecs of size 32) and add the constraints of the program. Check whether the assertion can be violated with the two different models of integers. Is there a difference in the results? If so, why?"
      ],
      "id": "lTe9jaKyc4Y9"
    },
    {
      "metadata": {
        "colab": {
          "base_uri": "https://localhost:8080/"
        },
        "id": "ifTsqRaCfQU6",
        "outputId": "76f49dc2-fb03-4ec8-dc03-118690395ed2"
      },
      "cell_type": "code",
      "outputs": [
        {
          "output_type": "stream",
          "name": "stdout",
          "text": [
            "Using 32-bit machine integers\n",
            "sat\n",
            "Assertion can be violated with initial x = 2675568639\n"
          ]
        }
      ],
      "execution_count": 44,
      "source": [
        "math_integer_model = False\n",
        "\n",
        "if math_integer_model:\n",
        "    print('Using mathematical integers')\n",
        "\n",
        "    x = Int('x')\n",
        "    y = Int('y')\n",
        "    x_prime = Int('x_prime')\n",
        "    y_prime = Int('y_prime')\n",
        "\n",
        "    s = Solver()\n",
        "    s.add(x_prime == x * x)\n",
        "    s.add(y_prime == x_prime + 1)\n",
        "\n",
        "    s.add(Not(y_prime > 0))\n",
        "\n",
        "    print(s.check())\n",
        "    if s.check() == sat:\n",
        "        m = s.model()\n",
        "        print(f\"Assertion can be violated with initial x = {m[x]}\")\n",
        "    else:\n",
        "        print(\"Assertion always holds.\")\n",
        "\n",
        "else:\n",
        "    print('Using 32-bit machine integers')\n",
        "\n",
        "    x = BitVec('x', 32)\n",
        "    y = BitVec('y', 32)\n",
        "    x_prime = BitVec('x_prime', 32)\n",
        "    y_prime = BitVec('y_prime', 32)\n",
        "\n",
        "    s = Solver()\n",
        "    s.add(x_prime == x * x)\n",
        "    s.add(y_prime == x_prime + 1)\n",
        "\n",
        "    s.add(Not(y_prime > 0))\n",
        "\n",
        "    print(s.check())\n",
        "    if s.check() == sat:\n",
        "        m = s.model()\n",
        "        print(f\"Assertion can be violated with initial x = {m[x]}\")\n",
        "    else:\n",
        "        print(\"Assertion always holds.\")\n",
        "\n",
        "# CONCLUSION: model is solvable suing 32-but machine integers, but not with mathematical ones"
      ],
      "id": "ifTsqRaCfQU6"
    },
    {
      "metadata": {
        "id": "Ue4WJt9tgQix"
      },
      "cell_type": "markdown",
      "source": [
        "## Exercise 7: Translating a Program with Multiple Branches (1 point)\n",
        "\n",
        "In Bounded Model Checking (BMC), the approach sketched in the previous section is generalised to programs with arbitrary control flow, bounding the number of execution steps (or loop iterations) that can be performed. Can you find a way to translate the following program to a set of constraints? The encoding should be formulated in such a way that the solver searches for an execution path violating the assertion. Let us stick to machine integers for this exercise. Note that the > operator for bit-vectors follows a signed interpretation in the Z3 Python API (so you can use it directly).\n",
        "\n",
        "Note that a loop-free program can still have an exponential number of possible execution paths. We often prefer to use encodings that are linear in the size of the program, and let the solver handle the exploration of paths.\n",
        "\n",
        "```\n",
        "int x, y;\n",
        "\n",
        "if (x > 0)\n",
        "  y = x;\n",
        "else\n",
        "  y = -x;\n",
        "\n",
        "assert(y >= 0);\n",
        "```"
      ],
      "id": "Ue4WJt9tgQix"
    },
    {
      "metadata": {
        "colab": {
          "base_uri": "https://localhost:8080/"
        },
        "id": "fEjtvNpfhraR",
        "outputId": "8580fd1c-1589-4379-ea2b-9b6a3187cdf8"
      },
      "cell_type": "code",
      "outputs": [
        {
          "output_type": "stream",
          "name": "stdout",
          "text": [
            "sat\n",
            "Assertion can be violated with initial x = 2147483648\n"
          ]
        }
      ],
      "execution_count": 48,
      "source": [
        "x = BitVec('x', 32)\n",
        "y = BitVec('y', 32)\n",
        "y_prime = BitVec('y_prime', 32)\n",
        "\n",
        "s = Solver()\n",
        "\n",
        "condition = x > 0\n",
        "y_val_if_true = x\n",
        "y_val_if_false = -x\n",
        "\n",
        "s.add(y_prime == If(condition, y_val_if_true, y_val_if_false))\n",
        "\n",
        "s.add(Not(y_prime >= 0))\n",
        "\n",
        "print(s.check())\n",
        "if s.check() == sat:\n",
        "    m = s.model()\n",
        "    print(f\"Assertion can be violated with initial x = {m[x]}\")\n",
        "else:\n",
        "    print(\"Assertion always holds.\")"
      ],
      "id": "fEjtvNpfhraR"
    },
    {
      "metadata": {
        "id": "acd1b2dd1c8b4783"
      },
      "cell_type": "markdown",
      "source": [
        "Ah, the dirty magic of integer overflow!"
      ],
      "id": "acd1b2dd1c8b4783"
    },
    {
      "metadata": {
        "id": "b4034b2fe018da54"
      },
      "cell_type": "markdown",
      "source": [
        "## Exercise 8: Translating a Program with Heap (1 point)\n",
        "\n",
        "One of the more interesting aspects when analysing programs using SMT solvers is the handling of data stored on the heap. In SMT, we often model such data using the theory of arrays. Arrays are sometimes also called _maps_ in this context, since arrays can be seen as a first-order theory of updatable functions.\n",
        "\n",
        "First take the following simple program:\n",
        "\n",
        "```\n",
        "int *x;\n",
        "assume(*x > 0);\n",
        "*x = *x + 1;\n",
        "assert(*x > 0);\n",
        "```\n",
        "Initially, we know that `x` points to a positive integer. We would like to show that incrementing the value does not affect its positivity. Let us skip the burden of machine integers for this exercise and use mathematical integers.\n",
        "\n",
        "Since we only work with integers stored on the heap now, we can model the heap as a function from addresses to integers. Addresses can be modelled as integers, as well. Thus, we can represent the heap in the following way:"
      ],
      "id": "b4034b2fe018da54"
    },
    {
      "metadata": {
        "id": "6a16c3bf3efaecee"
      },
      "cell_type": "code",
      "outputs": [],
      "execution_count": 50,
      "source": [
        "def AddrSort():\n",
        "  return IntSort()\n",
        "def HeapSort():\n",
        "  return ArraySort(AddrSort(), IntSort())"
      ],
      "id": "6a16c3bf3efaecee"
    },
    {
      "metadata": {
        "id": "ef683480e75f6a28"
      },
      "cell_type": "markdown",
      "source": [
        "We give the solution for this simple example to help you with the next exercise. `Select` and `Store` are the functions to access and update the heap, respectively. However, you can use the more friendly array indexing syntax as well instead of `Select`."
      ],
      "id": "ef683480e75f6a28"
    },
    {
      "metadata": {
        "colab": {
          "base_uri": "https://localhost:8080/"
        },
        "id": "5d82c392122e03bb",
        "outputId": "da29fa06-8966-485e-e73c-f0cdf89ecc46"
      },
      "cell_type": "code",
      "outputs": [
        {
          "output_type": "stream",
          "name": "stdout",
          "text": [
            "unsat\n"
          ]
        }
      ],
      "execution_count": 51,
      "source": [
        "s = Solver()\n",
        "\n",
        "h0 = Const('h0', HeapSort())  # initial heap\n",
        "h1 = Const('h1', HeapSort())  # heap after increment\n",
        "x  = Const('x',  AddrSort())  # address of the integer\n",
        "\n",
        "# the initial value of the heap at address x is assumed to be positive\n",
        "# h0[x] is short for Select(h0, x)\n",
        "s.add(h0[x] > 0)\n",
        "# the new heap is obtained by incrementing the value at address x\n",
        "s.add(h1 == Store(h0, x, h0[x] + 1))\n",
        "# assertion violation: the value at address x in the new heap is not positive\n",
        "s.add(Not(h1[x] > 0))\n",
        "\n",
        "print(s.check())  # unsat means the original assertion holds"
      ],
      "id": "5d82c392122e03bb"
    },
    {
      "metadata": {
        "id": "b9d33dfa4950b755"
      },
      "cell_type": "markdown",
      "source": [
        "Now, consider a slightly more complex program:\n",
        "\n",
        "```\n",
        "void swap(int *x, int *y) {\n",
        "  *x = *x + *y;\n",
        "  *y = *x - *y;\n",
        "  *x = *x - *y;\n",
        "}\n",
        "```\n",
        "\n",
        "Check whether the function correctly swaps the values stored at positions `*x` and `*y`. Translate the `swap` function into a set of constraints along with the requirement property."
      ],
      "id": "b9d33dfa4950b755"
    },
    {
      "metadata": {
        "colab": {
          "base_uri": "https://localhost:8080/"
        },
        "id": "5rhct9OYkbPy",
        "outputId": "02eb462b-2189-409d-bc2c-8e561acb9bd9"
      },
      "cell_type": "code",
      "outputs": [
        {
          "output_type": "stream",
          "name": "stdout",
          "text": [
            "sat\n",
            "Assertion can be violated (swap is not always correct).\n",
            "Initial heap at x: -1\n",
            "Initial heap at y: -1\n",
            "Final heap at x: 0\n",
            "Final heap at y: 0\n",
            "Are x and y the same address?: True\n"
          ]
        }
      ],
      "execution_count": 56,
      "source": [
        "s = Solver()\n",
        "\n",
        "h0 = Const('h0', HeapSort())\n",
        "h1 = Const('h1', HeapSort())\n",
        "h2 = Const('h2', HeapSort())\n",
        "h3 = Const('h3', HeapSort())\n",
        "\n",
        "x = Const('x', AddrSort())\n",
        "y = Const('y', AddrSort())\n",
        "\n",
        "# Add the CONCLUSION constraint here as a constraint\n",
        "\n",
        "s.add(h1 == Store(h0, x, h0[x] + h0[y]))\n",
        "s.add(h2 == Store(h1, y, h1[x] - h1[y]))\n",
        "s.add(h3 == Store(h2, x, h2[x] - h2[y]))\n",
        "\n",
        "s.add(Not(And(h3[x] == h0[y], h3[y] == h0[x])))\n",
        "\n",
        "print(s.check())\n",
        "if s.check() == sat:\n",
        "    m = s.model()\n",
        "    print(f\"Initial heap at x: {m.evaluate(h0[x])}\")\n",
        "    print(f\"Initial heap at y: {m.evaluate(h0[y])}\")\n",
        "    print(f\"Final heap at x: {m.evaluate(h3[x])}\")\n",
        "    print(f\"Final heap at y: {m.evaluate(h3[y])}\")\n",
        "\n",
        "# CONCLUSION : the catch is that x and y can point to the same memory address, in which case the swap logic fails\n",
        "# example for circumventing via a constraint -> s.add(x != y)"
      ],
      "id": "5rhct9OYkbPy"
    },
    {
      "metadata": {
        "id": "df61e12c1dd90ee4"
      },
      "cell_type": "markdown",
      "source": [
        "Did you get an unexpected result? Where is the catch? Try to find the cause of the problem by looking at the model returned by the solver. What assumption is necessary to make the function work as expected? Add the extra constraint(s) and check the result again."
      ],
      "id": "df61e12c1dd90ee4"
    },
    {
      "metadata": {
        "id": "2Iux1JQNitnt"
      },
      "cell_type": "markdown",
      "source": [
        "# Further Exercises, References and Other Resources\n",
        "\n",
        "If you are done with all tasks, we recommend that you head over to [Dennis Yurichev's excellent SAT/SMT by example](https://smt.st/) collection of puzzles and exercises!\n",
        "\n",
        "This material was prepared based on the [practical session](https://sat-smt-ar-school.gitlab.io/www/2024/schedule.html) of Philipp Rümmer (University of Regensburg & Uppsala University) at the SAT/SMT/AR Summer School, 27 June 2024.\n",
        "\n",
        "You can find detailed introductions to SMT-LIB and to the Python APIs, among others, here:\n",
        "\n",
        "* [The SMT-LIB website](https://smt-lib.org)\n",
        "* [David Cok's SMT-LIB Tutorial](https://smtlib.github.io/jSMTLIB/SMTLIBTutorial.pdf)\n",
        "* [Dennis Yurichev's SAT/SMT by example](https://smt.st/)\n",
        "* [Leonardo de Moura's Z3Py Tutorial](https://scungao.github.io/mit-iap17/z3python.html)\n",
        "* [Programming Z3](https://theory.stanford.edu/~nikolaj/programmingz3.html) by Nikolaj Bjørner, Leonardo de Moura, Lev Nachmanson, and Christoph Wintersteiger\n",
        "* [Z3Py Namespace Reference](https://z3prover.github.io/api/html/namespacez3py.html)\n"
      ],
      "id": "2Iux1JQNitnt"
    }
  ],
  "metadata": {
    "colab": {
      "provenance": []
    },
    "kernelspec": {
      "display_name": "Python 3 (ipykernel)",
      "language": "python",
      "name": "python3"
    },
    "language_info": {
      "codemirror_mode": {
        "name": "ipython",
        "version": 3
      },
      "file_extension": ".py",
      "mimetype": "text/x-python",
      "name": "python",
      "nbconvert_exporter": "python",
      "pygments_lexer": "ipython3",
      "version": "3.9.1"
    }
  },
  "nbformat": 4,
  "nbformat_minor": 5
}